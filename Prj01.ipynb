{
 "cells": [
  {
   "cell_type": "code",
   "execution_count": 1,
   "metadata": {},
   "outputs": [
    {
     "name": "stdout",
     "output_type": "stream",
     "text": [
      "The total number of twin primes between 1000 and 1000000 is 8185\n"
     ]
    }
   ],
   "source": [
    "#Project 1.1\n",
    "import math as mt\n",
    "#Find out the primes\n",
    "def is_prime(n):\n",
    "    for i in range(2, int(mt.sqrt(n))):\n",
    "        if n % i == 0:\n",
    "            return False\n",
    "    return True\n",
    "#Count the number for twin primes\n",
    "#For even can not be prime\n",
    "count = 0\n",
    "for n in range(999,1000001,2):\n",
    "    if is_prime(n) is True and is_prime(n + 2) is True:\n",
    "        count += 1\n",
    "print('The total number of twin primes between 1000 and 1000000 is %d' %count)"
   ]
  },
  {
   "cell_type": "code",
   "execution_count": 2,
   "metadata": {},
   "outputs": [],
   "source": [
    "#Project 1.2"
   ]
  },
  {
   "cell_type": "code",
   "execution_count": 3,
   "metadata": {},
   "outputs": [],
   "source": [
    "#To find the largest twin prime under 1 million,just reverse."
   ]
  },
  {
   "cell_type": "code",
   "execution_count": 4,
   "metadata": {},
   "outputs": [
    {
     "name": "stdout",
     "output_type": "stream",
     "text": [
      "('The largest twin primes between 1000 and 1000000 is', [999959])\n"
     ]
    }
   ],
   "source": [
    "list = []\n",
    "for n in range(1000001,999,-2):\n",
    "    if is_prime(n) is True and is_prime(n + 2) is True:\n",
    "        list.append(n)\n",
    "        break\n",
    "print('The largest twin primes between 1000 and 1000000 is',list)"
   ]
  },
  {
   "cell_type": "code",
   "execution_count": null,
   "metadata": {},
   "outputs": [],
   "source": []
  },
  {
   "cell_type": "code",
   "execution_count": null,
   "metadata": {},
   "outputs": [],
   "source": []
  },
  {
   "cell_type": "code",
   "execution_count": null,
   "metadata": {},
   "outputs": [],
   "source": []
  }
 ],
 "metadata": {
  "kernelspec": {
   "display_name": "Python 2",
   "language": "python",
   "name": "python2"
  },
  "language_info": {
   "codemirror_mode": {
    "name": "ipython",
    "version": 2
   },
   "file_extension": ".py",
   "mimetype": "text/x-python",
   "name": "python",
   "nbconvert_exporter": "python",
   "pygments_lexer": "ipython2",
   "version": "2.7.14"
  }
 },
 "nbformat": 4,
 "nbformat_minor": 1
}
