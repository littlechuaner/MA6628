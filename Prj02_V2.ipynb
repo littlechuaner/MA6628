{
 "cells": [
  {
   "cell_type": "markdown",
   "metadata": {
    "collapsed": false
   },
   "source": [
    "# Prj02.\n",
    "\n",
    "For an Asian option for geometric average type, The call price can be written by\n",
    "$$C_0 = \\mathbb E [e^{-rT} (A(T) - K)^+].$$\n",
    "\n",
    "where $A(T)$ is geometric average of the stock price at times\n",
    "$0 \\le t_1 < t_2, \\ldots, < t_n = T$, i.e.\n",
    "\n",
    "\n",
    "$$A(T) = (S(t_1)S(t_2) \\ldots S(t_n))^{1/n}.$$\n",
    "\n",
    "BS model assumes the distribution of stock as lognormal. In particular, it writes \n",
    "$$\\ln \\frac{S(T)}{S(0)} \\sim \\mathcal N((r  - \\frac 1 2 \\sigma^2) T, \\sigma^2 T)$$\n",
    "with respect to risk neutral measure. In the above, the parameters stand for\n",
    "\n",
    "* $S(0)$: The initial stock price\n",
    "* $S(T)$: The stock price at $T$\n",
    "* $r$: interest rate\n",
    "* $\\sigma$: volatility\n",
    "\n",
    "\n",
    "The call and put price with maturity $T$ and $K$ will be known as $C_0$ and $P_0$ given as below:\n",
    "$$C_0 = \\mathbb E [e^{-rT} (S(T) - K)^+] = S_0  \\Phi(d_1) - K e^{-rT} \\Phi(d_2),$$\n",
    "and \n",
    "$$P_0 = \\mathbb E [e^{-rT} (S(T) - K)^-] = K e^{-rT} \\Phi(- d_2) - S_0  \\Phi(- d_1),$$\n",
    "where $d_i$ are given as\n",
    "$$d_1 = \\frac{(r + \\frac 1 2 \\sigma^2) T - \\ln \\frac{K}{S_0}}{\\sigma \\sqrt T},$$\n",
    "and\n",
    "$$d_2 = \\frac{(r - \\frac 1 2 \\sigma^2) T - \\ln \\frac{K}{S_0}}{\\sigma \\sqrt T},$$\n",
    "\n",
    "\n",
    "Under the above BS model, one can show that the distribution of $A(T)$ is again a lognormal under EMM in the form of\n",
    "$$A_T = S_0 \\exp \\{ (\\hat r - \\frac 1 2 \\hat \\sigma^2)T + \\hat \\sigma \\sqrt T \\hat Z\\}.$$\n",
    "In the above, $\\hat Z$ is a standard normal random variable, $\\hat \\sigma$ is\n",
    "$$\\hat \\sigma = \\frac{\\sigma}{n} \\sqrt{\\frac{(n+1)(2n+1)}{6}}$$\n",
    "and $\\hat r$ is\n",
    "$$\\hat r = \\frac 1 2 \\hat \\sigma^2 + \\frac{n+1}{2n}(r - \\frac 1 2 \\sigma^2).$$\n",
    "Then, by fundamental asset pricing theory, we have GAC price by\n",
    "$$\\Pi_0^c = e^{(\\hat r - r)T} \\mathbb E [ e^{-\\hat r T} (A_T - K)^+].$$\n",
    "\n",
    "\n",
    "which is \n",
    "\n",
    "$$\\Pi_0^c = e^{-rT}* BSM.Call(S,T,K,\\hat r,\\hat \\sigma).$$"
   ]
  },
  {
   "cell_type": "code",
   "execution_count": 1,
   "metadata": {
    "collapsed": false
   },
   "outputs": [
    {
     "data": {
      "text/plain": [
       "0.8975150358630113"
      ]
     },
     "execution_count": 1,
     "metadata": {
     },
     "output_type": "execute_result"
    }
   ],
   "source": [
    "#Rewrite BSM coding.\n",
    "import numpy as np\n",
    "import scipy.stats as ss\n",
    "import time \n",
    "import math\n",
    "\n",
    "def delta_1(St, K, T, r, v, n):\n",
    "    v1 = (v/n)*math.sqrt ((1/6)*(n+1)*(2*n+1))\n",
    "    r1 = 0.5*np.square(v1) + ((n+1)/(2*n))*(r-(0.5* np.square(v)))\n",
    "    d1_hat = (np.log(float(St / K)) + (r1 + 0.5 * np.square(v1)* T)) / (v1 * np.sqrt(T))\n",
    "    return d1_hat\n",
    "\n",
    "def Asian_BSM_call_value(St, K, T, r, v, n):\n",
    "   \n",
    "    d1 = delta_1(St, K, T, r, v, n)\n",
    "    v1 = (v/n)*math.sqrt ((1/6)*(n+1)*(2*n+1))\n",
    "    r1 = 0.5*np.square(v1) + ((n+1)/(2*n))*(r-(0.5* np.square(v)))\n",
    "    d2 = d1 - v1 * math.sqrt(T)\n",
    "    Geo_Asian_call_value =math.exp(-(r*T))*(St * ss.norm.cdf(d1) - math.exp(-r1*T) * K * ss.norm.cdf(d2))\n",
    "    return Geo_Asian_call_value\n",
    "\n",
    "St = 100.0\n",
    "K = 120.0\n",
    "r = 0.0475\n",
    "v = 0.20\n",
    "T = 1\n",
    "n = 4\n",
    "\n",
    "Asian_BSM_call_value(St, K, T, r, v, n)\n"
   ]
  },
  {
   "cell_type": "code",
   "execution_count": 0,
   "metadata": {
    "collapsed": false
   },
   "outputs": [
   ],
   "source": [
   ]
  }
 ],
 "metadata": {
  "kernelspec": {
   "display_name": "Python 3 (Anaconda 5)",
   "language": "python",
   "name": "anaconda5"
  }
 },
 "nbformat": 4,
 "nbformat_minor": 0
}