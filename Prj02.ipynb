{
 "cells": [
  {
   "cell_type": "markdown",
   "metadata": {},
   "source": [
    "# Prj02.\n",
    "\n",
    "For an Asian option for geometric average type, The call price can be written by\n",
    "$$C_0 = \\mathbb E [e^{-rT} (A(T) - K)^+].$$\n",
    "\n",
    "where $A(T)$ is geometric average of the stock price at times\n",
    "$0 \\le t_1 < t_2, \\ldots, < t_n = T$, i.e.\n",
    "\n",
    "\n",
    "$$A(T) = (S(t_1)S(t_2) \\ldots S(t_n))^{1/n}.$$"
   ]
  },
  {
   "cell_type": "markdown",
   "metadata": {},
   "source": [
    "BS model assumes the distribution of stock as lognormal. In particular, it writes \n",
    "$$\\ln \\frac{S(T)}{S(0)} \\sim \\mathcal N((r  - \\frac 1 2 \\sigma^2) T, \\sigma^2 T)$$\n",
    "with respect to risk neutral measure. In the above, the parameters stand for\n",
    "\n",
    "* $S(0)$: The initial stock price\n",
    "* $S(T)$: The stock price at $T$\n",
    "* $r$: interest rate\n",
    "* $\\sigma$: volatility\n",
    "\n",
    "\n",
    "The call and put price with maturity $T$ and $K$ will be known as $C_0$ and $P_0$ given as below:\n",
    "$$C_0 = \\mathbb E [e^{-rT} (S(T) - K)^+] = S_0  \\Phi(d_1) - K e^{-rT} \\Phi(d_2),$$\n",
    "and \n",
    "$$P_0 = \\mathbb E [e^{-rT} (S(T) - K)^-] = K e^{-rT} \\Phi(- d_2) - S_0  \\Phi(- d_1),$$\n",
    "where $d_i$ are given as\n",
    "$$d_1 = \\frac{(r + \\frac 1 2 \\sigma^2) T - \\ln \\frac{K}{S_0}}{\\sigma \\sqrt T},$$\n",
    "and\n",
    "$$d_2 = \\frac{(r - \\frac 1 2 \\sigma^2) T - \\ln \\frac{K}{S_0}}{\\sigma \\sqrt T},$$\n",
    "\n",
    "\n",
    "Under the above BS model, one can show that the distribution of $A(T)$ is again a lognormal under EMM in the form of\n",
    "$$A_T = S_0 \\exp \\{ (\\hat r - \\frac 1 2 \\hat \\sigma^2)T + \\hat \\sigma \\sqrt T \\hat Z\\}.$$\n",
    "In the above, $\\hat Z$ is a standard normal random variable, $\\hat \\sigma$ is\n",
    "$$\\hat \\sigma = \\frac{\\sigma}{n} \\sqrt{\\frac{(n+1)(2n+1)}{6}}$$\n",
    "and $\\hat r$ is\n",
    "$$\\hat r = \\frac 1 2 \\hat \\sigma^2 + \\frac{n+1}{2n}(r - \\frac 1 2 \\sigma^2).$$\n",
    "Then, by fundamental asset pricing theory, we have GAC price by\n",
    "$$\\Pi_0^c = e^{(\\hat r - r)T} \\mathbb E [ e^{-\\hat r T} (A_T - K)^+].$$\n",
    "\n",
    "\n",
    "which is \n",
    "\n",
    "$$\\Pi_0^c = e^{(\\hat r - r)T}* BSM.Call(S,T,K,\\hat r,\\hat \\sigma).$$"
   ]
  },
  {
   "cell_type": "code",
   "execution_count": 7,
   "metadata": {},
   "outputs": [],
   "source": [
    "#Rewrite BSM coding.\n",
    "import numpy as np\n",
    "import scipy.stats as ss\n",
    "import time \n",
    "import math"
   ]
  },
  {
   "cell_type": "code",
   "execution_count": 11,
   "metadata": {},
   "outputs": [],
   "source": [
    "def delta_1(St, K, T, r, v, n):\n",
    "    v1 = (v/n)*math.sqrt ((1/6)*(n+1)*(2*n+1))\n",
    "    r1 = 0.5*np.square(v1) + ((n+1)/(2*n))*(r-(0.5* np.square(v)))\n",
    "    d1_hat = (np.log(St / K) + (r1 + 0.5 * np.square(v1)* T)) / (v1 * np.sqrt(T))\n",
    "    return d1_hat\n"
   ]
  },
  {
   "cell_type": "code",
   "execution_count": 15,
   "metadata": {},
   "outputs": [],
   "source": [
    "def Asian_BSM_call_value(St, K, T, r, v, n):\n",
    "   \n",
    "    d1 = delta_1(St, K, T, r, v, n)\n",
    "    v1 = (v/n)*math.sqrt ((1/6)*(n+1)*(2*n+1))\n",
    "    r1 = 0.5*np.square(v1) + ((n+1)/(2*n))*(r-(0.5* np.square(v)))\n",
    "    d2 = d1 - v1 * math.sqrt(T)\n",
    "    Geo_Asian_call_value =math.exp((r1-r)*T)*(St * ss.norm.cdf(d1) - math.exp(-r1*T) * K * ss.norm.cdf(d2))\n",
    "    return Geo_Asian_call_value\n"
   ]
  },
  {
   "cell_type": "markdown",
   "metadata": {},
   "source": [
    "Solution for Prj02.\n",
    "\n",
    "Find BS Call price for the given parameters below"
   ]
  },
  {
   "cell_type": "code",
   "execution_count": 16,
   "metadata": {},
   "outputs": [],
   "source": [
    "St = 100.0\n",
    "K = 110.0\n",
    "r = 0.0475\n",
    "v = 0.20\n",
    "T = 1\n",
    "n = 4"
   ]
  },
  {
   "cell_type": "code",
   "execution_count": 28,
   "metadata": {},
   "outputs": [
    {
     "name": "stdout",
     "output_type": "stream",
     "text": [
      "the asian call is valued at 2.7329867250697175\n"
     ]
    }
   ],
   "source": [
    "A = Asian_BSM_call_value(St, K, T, r, v, n)\n",
    "\n",
    "print('the asian call is valued at',A)"
   ]
  }
 ],
 "metadata": {
  "kernelspec": {
   "display_name": "Python 3",
   "language": "python",
   "name": "python3"
  },
  "language_info": {
   "codemirror_mode": {
    "name": "ipython",
    "version": 3
   },
   "file_extension": ".py",
   "mimetype": "text/x-python",
   "name": "python",
   "nbconvert_exporter": "python",
   "pygments_lexer": "ipython3",
   "version": "3.7.0"
  }
 },
 "nbformat": 4,
 "nbformat_minor": 1
}
